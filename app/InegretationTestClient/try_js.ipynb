{
 "cells": [
  {
   "cell_type": "code",
   "execution_count": 57,
   "metadata": {},
   "outputs": [],
   "source": [
    "code = '''\n",
    "\n",
    "\n",
    " class BREngine {\n",
    "    constructor() {\n",
    "        this.eventHandler = new Event();\n",
    "        this.ruleSelector = new CallEngine();\n",
    "    }\n",
    "\n",
    "    triggerEvent() {\n",
    "        return this.eventHandler.defineEvent();\n",
    "    }\n",
    "\n",
    "    executeEngine() {\n",
    "        return this.ruleSelector.selectRule();\n",
    "    }\n",
    "}\n",
    "\n",
    "class Event {\n",
    "    defineEvent() {\n",
    "        let dataManager = new CopyData();\n",
    "        let newDataManager = new NewData();\n",
    "        let restored = dataManager.restoreData();\n",
    "        return `Event Defined: ${restored}`;\n",
    "    }\n",
    "}\n",
    "\n",
    "class CallEngine {\n",
    "    selectRule() {\n",
    "        let tester = new Test();\n",
    "        return tester.acceptChanges();\n",
    "    }\n",
    "}\n",
    "\n",
    "class CopyData {\n",
    "    restoreData() {\n",
    "        return \"Data Restored\";\n",
    "    }\n",
    "}\n",
    "\n",
    "class NewData {\n",
    "    processNewData() {\n",
    "        return \"New Data Processed\";\n",
    "    }\n",
    "}\n",
    "\n",
    "class Test {\n",
    "    acceptChanges() {\n",
    "        return \"Changes Accepted\";\n",
    "    }\n",
    "}\n",
    "\n",
    "function main() {\n",
    "    let engine = new BREngine();\n",
    "    let eventResult = engine.triggerEvent();\n",
    "    let ruleResult = engine.executeEngine();\n",
    "    return `${eventResult} | ${ruleResult}`;\n",
    "}\n",
    "\n",
    "main();\n",
    "\n",
    "\n",
    "\n",
    "'''"
   ]
  },
  {
   "cell_type": "code",
   "execution_count": 58,
   "metadata": {},
   "outputs": [],
   "source": [
    "from Splitting_Scripts import JS_Splitter\n",
    "functions = JS_Splitter.extract_functions(code)"
   ]
  },
  {
   "cell_type": "code",
   "execution_count": 59,
   "metadata": {},
   "outputs": [
    {
     "name": "stdout",
     "output_type": "stream",
     "text": [
      "JavaFunctionWrapperNode(name='constructor', body='    constructor() {\\n        this.eventHandler = new Event();\\n        this.ruleSelector = new CallEngine();\\n    }', calls=[], class_name='BREngine', params=[], docstring=None, is_override=False)\n",
      "JavaFunctionWrapperNode(name='triggerEvent', body='    triggerEvent() {\\n        return this.eventHandler.defineEvent();\\n    }', calls=['defineEvent|0|unknown'], class_name='BREngine', params=[], docstring=None, is_override=False)\n",
      "JavaFunctionWrapperNode(name='executeEngine', body='    executeEngine() {\\n        return this.ruleSelector.selectRule();\\n    }', calls=['selectRule|0|unknown'], class_name='BREngine', params=[], docstring=None, is_override=False)\n",
      "JavaFunctionWrapperNode(name='defineEvent', body='    defineEvent() {\\n        let dataManager = new CopyData();\\n        let newDataManager = new NewData();\\n        let restored = dataManager.restoreData();\\n        return `Event Defined: ${restored}`;\\n    }', calls=['restoreData|0|dataManager'], class_name='Event', params=[], docstring=None, is_override=False)\n",
      "JavaFunctionWrapperNode(name='selectRule', body='    selectRule() {\\n        let tester = new Test();\\n        return tester.acceptChanges();\\n    }', calls=['acceptChanges|0|tester'], class_name='CallEngine', params=[], docstring=None, is_override=False)\n",
      "JavaFunctionWrapperNode(name='restoreData', body='    restoreData() {\\n        return \"Data Restored\";\\n    }', calls=[], class_name='CopyData', params=[], docstring=None, is_override=False)\n",
      "JavaFunctionWrapperNode(name='processNewData', body='    processNewData() {\\n        return \"New Data Processed\";\\n    }', calls=[], class_name='NewData', params=[], docstring=None, is_override=False)\n",
      "JavaFunctionWrapperNode(name='acceptChanges', body='    acceptChanges() {\\n        return \"Changes Accepted\";\\n    }', calls=[], class_name='Test', params=[], docstring=None, is_override=False)\n",
      "JavaFunctionWrapperNode(name='main', body='function main() {\\n    let engine = new BREngine();\\n    let eventResult = engine.triggerEvent();\\n    let ruleResult = engine.executeEngine();\\n    return `${eventResult} | ${ruleResult}`;\\n}', calls=['executeEngine|0|engine', 'triggerEvent|0|engine'], class_name=None, params=[], docstring=None, is_override=False)\n"
     ]
    }
   ],
   "source": [
    "for i in functions:\n",
    "  print(i)"
   ]
  },
  {
   "cell_type": "code",
   "execution_count": 60,
   "metadata": {},
   "outputs": [],
   "source": [
    "from graph_generator.FunctionNode import FunctionNode"
   ]
  },
  {
   "cell_type": "code",
   "execution_count": 61,
   "metadata": {},
   "outputs": [],
   "source": [
    "functionsNodes = []"
   ]
  },
  {
   "cell_type": "code",
   "execution_count": 62,
   "metadata": {},
   "outputs": [],
   "source": [
    "for i in functions:\n",
    "    functionsNodes.append(FunctionNode(\n",
    "        Function_Name=i.name,\n",
    "        Hashed=i.hash,\n",
    "        FunctionsCallsInside=i.calls,\n",
    "        ClassNameIfExist=i.class_name,\n",
    "        Arguments=i.params,\n",
    "        FunctionBody=i.body,\n",
    "        Description=\"\"\n",
    "    ))"
   ]
  },
  {
   "cell_type": "code",
   "execution_count": 63,
   "metadata": {},
   "outputs": [
    {
     "name": "stdout",
     "output_type": "stream",
     "text": [
      "constructor\n",
      "[]\n",
      "constructor|0|BREngine\n",
      "[]\n",
      "triggerEvent\n",
      "['defineEvent|0|unknown']\n",
      "triggerEvent|0|BREngine\n",
      "[]\n",
      "executeEngine\n",
      "['selectRule|0|unknown']\n",
      "executeEngine|0|BREngine\n",
      "[]\n",
      "defineEvent\n",
      "['restoreData|0|dataManager']\n",
      "defineEvent|0|Event\n",
      "[]\n",
      "selectRule\n",
      "['acceptChanges|0|tester']\n",
      "selectRule|0|CallEngine\n",
      "[]\n",
      "restoreData\n",
      "[]\n",
      "restoreData|0|CopyData\n",
      "[]\n",
      "processNewData\n",
      "[]\n",
      "processNewData|0|NewData\n",
      "[]\n",
      "acceptChanges\n",
      "[]\n",
      "acceptChanges|0|Test\n",
      "[]\n",
      "main\n",
      "['executeEngine|0|engine', 'triggerEvent|0|engine']\n",
      "main|0|None\n",
      "[]\n"
     ]
    }
   ],
   "source": [
    "for i in functionsNodes:\n",
    "   # print(i._FunctionBody)\n",
    "    print(i._Function_Name)\n",
    "    print(i._FunctionsCallsInside)\n",
    "    print(i._Hashed)\n",
    "    print(i._Arguments)\n",
    "   # print(\"-\"*20)"
   ]
  },
  {
   "cell_type": "code",
   "execution_count": 64,
   "metadata": {},
   "outputs": [
    {
     "name": "stdout",
     "output_type": "stream",
     "text": [
      "{'constructor|0|BREngine': <graph_generator.FunctionNode.FunctionNode object at 0x00000220A2AB8A90>, 'triggerEvent|0|BREngine': <graph_generator.FunctionNode.FunctionNode object at 0x00000220A2AB8490>, 'executeEngine|0|BREngine': <graph_generator.FunctionNode.FunctionNode object at 0x00000220A2AB8B20>, 'defineEvent|0|Event': <graph_generator.FunctionNode.FunctionNode object at 0x00000220A2AB8310>, 'selectRule|0|CallEngine': <graph_generator.FunctionNode.FunctionNode object at 0x00000220A2AB8F70>, 'restoreData|0|CopyData': <graph_generator.FunctionNode.FunctionNode object at 0x00000220A2AB8520>, 'processNewData|0|NewData': <graph_generator.FunctionNode.FunctionNode object at 0x00000220A2AB80D0>, 'acceptChanges|0|Test': <graph_generator.FunctionNode.FunctionNode object at 0x00000220A2AB8CD0>, 'main|0|None': <graph_generator.FunctionNode.FunctionNode object at 0x00000220A2AB8A00>}\n",
      "defineEvent|0|unknown\n",
      "selectRule|0|unknown\n",
      "restoreData|0|dataManager\n",
      "acceptChanges|0|tester\n",
      "executeEngine|0|engine\n",
      "triggerEvent|0|engine\n",
      "Function hashed constructor|0|BREngine calls: []\n",
      "Function hashed triggerEvent|0|BREngine calls: ['defineEvent|0|unknown']\n",
      "Function hashed executeEngine|0|BREngine calls: ['selectRule|0|unknown']\n",
      "Function hashed defineEvent|0|Event calls: ['restoreData|0|dataManager']\n",
      "Function hashed selectRule|0|CallEngine calls: ['acceptChanges|0|tester']\n",
      "Function hashed restoreData|0|CopyData calls: []\n",
      "Function hashed processNewData|0|NewData calls: []\n",
      "Function hashed acceptChanges|0|Test calls: []\n",
      "Function hashed main|0|None calls: ['executeEngine|0|engine', 'triggerEvent|0|engine']\n",
      "{'constructor|0|BREngine': 0, 'triggerEvent|0|BREngine': 0, 'executeEngine|0|BREngine': 0, 'defineEvent|0|Event': 0, 'selectRule|0|CallEngine': 0, 'restoreData|0|CopyData': 0, 'processNewData|0|NewData': 0, 'acceptChanges|0|Test': 0, 'main|0|None': 0}\n"
     ]
    }
   ],
   "source": [
    "from graph_generator.Graph_Constructor import graph\n",
    "graphEx = graph(functionsNodes)  # Pass your list of FunctionNode objects\n",
    "graphEx.construct_Graph()  # This initializes queue\n",
    "functionsName = graphEx.Topological_Sort()  # Now queue exists, so this works\n"
   ]
  },
  {
   "cell_type": "code",
   "execution_count": 65,
   "metadata": {},
   "outputs": [
    {
     "name": "stdout",
     "output_type": "stream",
     "text": [
      "(['main|0|None', 'acceptChanges|0|Test', 'processNewData|0|NewData', 'restoreData|0|CopyData', 'selectRule|0|CallEngine', 'defineEvent|0|Event', 'executeEngine|0|BREngine', 'triggerEvent|0|BREngine', 'constructor|0|BREngine'], ['main|0|None', 'acceptChanges|0|Test', 'processNewData|0|NewData', 'restoreData|0|CopyData', 'selectRule|0|CallEngine', 'defineEvent|0|Event', 'executeEngine|0|BREngine', 'triggerEvent|0|BREngine', 'constructor|0|BREngine'])\n"
     ]
    }
   ],
   "source": [
    "print(functionsName)"
   ]
  },
  {
   "cell_type": "code",
   "execution_count": null,
   "metadata": {},
   "outputs": [],
   "source": []
  },
  {
   "cell_type": "code",
   "execution_count": 66,
   "metadata": {},
   "outputs": [
    {
     "data": {
      "text/plain": [
       "['main|0|None',\n",
       " 'acceptChanges|0|Test',\n",
       " 'processNewData|0|NewData',\n",
       " 'restoreData|0|CopyData',\n",
       " 'selectRule|0|CallEngine',\n",
       " 'defineEvent|0|Event',\n",
       " 'executeEngine|0|BREngine',\n",
       " 'triggerEvent|0|BREngine',\n",
       " 'constructor|0|BREngine']"
      ]
     },
     "execution_count": 66,
     "metadata": {},
     "output_type": "execute_result"
    }
   ],
   "source": [
    "functionsName[1]"
   ]
  },
  {
   "cell_type": "code",
   "execution_count": 67,
   "metadata": {},
   "outputs": [
    {
     "data": {
      "text/plain": [
       "['main|0|None',\n",
       " 'acceptChanges|0|Test',\n",
       " 'processNewData|0|NewData',\n",
       " 'restoreData|0|CopyData',\n",
       " 'selectRule|0|CallEngine',\n",
       " 'defineEvent|0|Event',\n",
       " 'executeEngine|0|BREngine',\n",
       " 'triggerEvent|0|BREngine',\n",
       " 'constructor|0|BREngine']"
      ]
     },
     "execution_count": 67,
     "metadata": {},
     "output_type": "execute_result"
    }
   ],
   "source": [
    "functionsName[0]"
   ]
  }
 ],
 "metadata": {
  "kernelspec": {
   "display_name": "base",
   "language": "python",
   "name": "python3"
  },
  "language_info": {
   "codemirror_mode": {
    "name": "ipython",
    "version": 3
   },
   "file_extension": ".py",
   "mimetype": "text/x-python",
   "name": "python",
   "nbconvert_exporter": "python",
   "pygments_lexer": "ipython3",
   "version": "3.9.18"
  }
 },
 "nbformat": 4,
 "nbformat_minor": 2
}
