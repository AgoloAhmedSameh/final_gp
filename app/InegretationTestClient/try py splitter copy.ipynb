{
 "cells": [
  {
   "cell_type": "code",
   "execution_count": 1,
   "id": "7681655f",
   "metadata": {},
   "outputs": [],
   "source": [
    "from Splitting_Scripts import Cpp_Splitter"
   ]
  },
  {
   "cell_type": "code",
   "execution_count": null,
   "id": "68ce215b",
   "metadata": {},
   "outputs": [],
   "source": [
    "code='''\n",
    "\n",
    "\n",
    "#include <iostream>\n",
    "using namespace std;\n",
    "\n",
    "// ========================= Base Class =========================\n",
    "class MathOperations {\n",
    "public:\n",
    "    // Overloaded sum functions\n",
    "    int sum(int a, int b) {\n",
    "        return a + b;\n",
    "    }\n",
    "\n",
    "    double sum(double a, double b) {\n",
    "        return a + b;\n",
    "    }\n",
    "\n",
    "    int sum(int a, int b, int c) {\n",
    "        return sum(a, b) + c;\n",
    "    }\n",
    "};\n",
    "\n",
    "// ========================= Derived Class =========================\n",
    "class AdvancedMathOperations : public MathOperations {\n",
    "public:\n",
    "    // New function: Multiplication\n",
    "    int multiply(double a, double b) {\n",
    "        MathOperations().sum(a,b);\n",
    "        return a * b;\n",
    "    }\n",
    "\n",
    "    // Overriding the sum function\n",
    "    double sum(double a, double b) {\n",
    "        cout << \"Overridden sum in AdvancedMathOperations\" << endl;\n",
    "       \n",
    "        return a + b + 1; // Example: Adding 1 to differentiate behavior\n",
    "    }\n",
    "};\n",
    "\n",
    "\n",
    "\n",
    "\n",
    "\n",
    "'''\n"
   ]
  },
  {
   "cell_type": "code",
   "execution_count": 3,
   "id": "d450d679",
   "metadata": {},
   "outputs": [
    {
     "name": "stdout",
     "output_type": "stream",
     "text": [
      "Extracted 5 functions.\n"
     ]
    }
   ],
   "source": [
    "functions=Cpp_Splitter.analyze_cpp_code_from_string(code)\n"
   ]
  },
  {
   "cell_type": "code",
   "execution_count": 4,
   "id": "84a38df1",
   "metadata": {},
   "outputs": [],
   "source": [
    "New_Functions = Cpp_Splitter.replace_function_names_with_hash(functions)"
   ]
  },
  {
   "cell_type": "code",
   "execution_count": 5,
   "id": "520cef40",
   "metadata": {},
   "outputs": [
    {
     "name": "stdout",
     "output_type": "stream",
     "text": [
      "sum|2|MathOperations|['int', 'int']\n",
      "sum|2|MathOperations|['double', 'double']\n",
      "sum|3|MathOperations|['int', 'int', 'int']\n",
      "multiply|2|AdvancedMathOperations|['double', 'double']\n",
      "sum|2|AdvancedMathOperations|['double', 'double']\n"
     ]
    }
   ],
   "source": [
    "for fun in New_Functions:\n",
    "    print(fun.signature)"
   ]
  },
  {
   "cell_type": "code",
   "execution_count": 6,
   "id": "21e3efb2",
   "metadata": {},
   "outputs": [],
   "source": [
    "functionsNodes=[]"
   ]
  },
  {
   "cell_type": "code",
   "execution_count": 7,
   "id": "5cdd79fd",
   "metadata": {},
   "outputs": [],
   "source": [
    "from graph_generator.FunctionNode import FunctionNode"
   ]
  },
  {
   "cell_type": "code",
   "execution_count": 8,
   "id": "5ec95906",
   "metadata": {},
   "outputs": [],
   "source": [
    "for i in functions:\n",
    "    functionsNodes.append(FunctionNode(\n",
    "        Function_Name=i.name,\n",
    "        FunctionsCallsInside=i.calls,\n",
    "        Hashed=i.signature,\n",
    "        ClassNameIfExist=i.class_name,\n",
    "        Arguments=i.args,\n",
    "        FunctionBody=i.body,\n",
    "        Description=\"\"\n",
    "    ))"
   ]
  },
  {
   "cell_type": "code",
   "execution_count": 9,
   "id": "5d81af67",
   "metadata": {},
   "outputs": [
    {
     "name": "stdout",
     "output_type": "stream",
     "text": [
      "sum\n",
      "[]\n",
      "sum|2|MathOperations|['int', 'int']\n",
      "['int', 'int']\n",
      "sum\n",
      "[]\n",
      "sum|2|MathOperations|['double', 'double']\n",
      "['double', 'double']\n",
      "sum\n",
      "[(\"sum|2|MathOperations|['int', 'int']\", 2, 'MathOperations', ['int', 'int'])]\n",
      "sum|3|MathOperations|['int', 'int', 'int']\n",
      "['int', 'int', 'int']\n",
      "multiply\n",
      "[(\"sum|2|MathOperations|['double', 'double']\", 2, 'MathOperations', ['double', 'double']), ('MathOperations', 0, 'MathOperations', [])]\n",
      "multiply|2|AdvancedMathOperations|['double', 'double']\n",
      "['double', 'double']\n",
      "sum\n",
      "[]\n",
      "sum|2|AdvancedMathOperations|['double', 'double']\n",
      "['double', 'double']\n"
     ]
    }
   ],
   "source": [
    "for i in functionsNodes:\n",
    "   # print(i._FunctionBody)\n",
    "    print(i._Function_Name)\n",
    "    print(i._FunctionsCallsInside)\n",
    "    print(i._Hashed)\n",
    "    print(i._Arguments)\n",
    "   # print(\"-\"*20)"
   ]
  },
  {
   "cell_type": "code",
   "execution_count": 10,
   "id": "174de1f1",
   "metadata": {},
   "outputs": [],
   "source": [
    "from graph_generator.Graph_Constructor import graph"
   ]
  },
  {
   "cell_type": "code",
   "execution_count": 11,
   "id": "8fc85c25",
   "metadata": {},
   "outputs": [],
   "source": [
    "graphEx=graph(functionsNodes)"
   ]
  },
  {
   "cell_type": "code",
   "execution_count": 12,
   "id": "aef792af",
   "metadata": {},
   "outputs": [
    {
     "name": "stdout",
     "output_type": "stream",
     "text": [
      "{\"sum|2|MathOperations|['int', 'int']\": <graph_generator.FunctionNode.FunctionNode object at 0x000002A802C71D90>, \"sum|2|MathOperations|['double', 'double']\": <graph_generator.FunctionNode.FunctionNode object at 0x000002A802C71DF0>, \"sum|3|MathOperations|['int', 'int', 'int']\": <graph_generator.FunctionNode.FunctionNode object at 0x000002A802C71EB0>, \"multiply|2|AdvancedMathOperations|['double', 'double']\": <graph_generator.FunctionNode.FunctionNode object at 0x000002A803E72760>, \"sum|2|AdvancedMathOperations|['double', 'double']\": <graph_generator.FunctionNode.FunctionNode object at 0x000002A803E720A0>}\n",
      "sum|2|MathOperations|['int', 'int']\n",
      "sum|2|MathOperations|['double', 'double']\n",
      "Function hashed sum|2|MathOperations|['int', 'int'] calls: []\n",
      "Function hashed sum|2|MathOperations|['double', 'double'] calls: []\n",
      "Function hashed sum|3|MathOperations|['int', 'int', 'int'] calls: [(\"sum|2|MathOperations|['int', 'int']\", 2, 'MathOperations', ['int', 'int'])]\n",
      "Function hashed multiply|2|AdvancedMathOperations|['double', 'double'] calls: [(\"sum|2|MathOperations|['double', 'double']\", 2, 'MathOperations', ['double', 'double']), ('MathOperations', 0, 'MathOperations', [])]\n",
      "Function hashed sum|2|AdvancedMathOperations|['double', 'double'] calls: []\n",
      "{\"sum|2|MathOperations|['int', 'int']\": 1, \"sum|2|MathOperations|['double', 'double']\": 1, \"sum|3|MathOperations|['int', 'int', 'int']\": 0, \"multiply|2|AdvancedMathOperations|['double', 'double']\": 0, \"sum|2|AdvancedMathOperations|['double', 'double']\": 0}\n"
     ]
    }
   ],
   "source": [
    "graphEx.construct_Graph()"
   ]
  },
  {
   "cell_type": "code",
   "execution_count": 13,
   "id": "4480fce9",
   "metadata": {},
   "outputs": [],
   "source": [
    "functionsName=graphEx.Topological_Sort()"
   ]
  },
  {
   "cell_type": "code",
   "execution_count": 14,
   "id": "66f7a2db",
   "metadata": {},
   "outputs": [
    {
     "data": {
      "text/plain": [
       "[\"sum|2|MathOperations|['double', 'double']\",\n",
       " \"sum|2|MathOperations|['int', 'int']\",\n",
       " \"sum|2|AdvancedMathOperations|['double', 'double']\",\n",
       " \"multiply|2|AdvancedMathOperations|['double', 'double']\",\n",
       " \"sum|3|MathOperations|['int', 'int', 'int']\"]"
      ]
     },
     "execution_count": 14,
     "metadata": {},
     "output_type": "execute_result"
    }
   ],
   "source": [
    "functionsName[1]"
   ]
  },
  {
   "cell_type": "code",
   "execution_count": 15,
   "id": "ec5e902b",
   "metadata": {},
   "outputs": [
    {
     "data": {
      "text/plain": [
       "[\"sum|2|MathOperations|['double', 'double']\",\n",
       " \"sum|2|MathOperations|['int', 'int']\",\n",
       " \"sum|2|AdvancedMathOperations|['double', 'double']\",\n",
       " \"multiply|2|AdvancedMathOperations|['double', 'double']\",\n",
       " \"sum|3|MathOperations|['int', 'int', 'int']\"]"
      ]
     },
     "execution_count": 15,
     "metadata": {},
     "output_type": "execute_result"
    }
   ],
   "source": [
    "functionsName[0]"
   ]
  }
 ],
 "metadata": {
  "kernelspec": {
   "display_name": "base",
   "language": "python",
   "name": "python3"
  },
  "language_info": {
   "codemirror_mode": {
    "name": "ipython",
    "version": 3
   },
   "file_extension": ".py",
   "mimetype": "text/x-python",
   "name": "python",
   "nbconvert_exporter": "python",
   "pygments_lexer": "ipython3",
   "version": "3.9.18"
  }
 },
 "nbformat": 4,
 "nbformat_minor": 5
}
