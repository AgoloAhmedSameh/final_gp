{
 "cells": [
  {
   "cell_type": "code",
   "execution_count": 1,
   "id": "6c44b6fd",
   "metadata": {},
   "outputs": [],
   "source": [
    "# code='''\n",
    "# # Regular function\n",
    "# def add(a, b):\n",
    "#     return a + b\n",
    "\n",
    "# # Regular function\n",
    "# def multiply(x, y):\n",
    "#     return x * y\n",
    "\n",
    "# # Recursive function\n",
    "# def factorial(n):\n",
    "#     if n == 0:\n",
    "#         return 1\n",
    "#     return n * factorial(n - 1)\n",
    "\n",
    "# # Function calling another function\n",
    "# def compute(n):\n",
    "#     return factorial(n) + multiply(n, 2)\n",
    "\n",
    "# # Class with methods\n",
    "# class MathOperations:\n",
    "#     def square(self, x):\n",
    "#         return x * x\n",
    "\n",
    "#     def d(self, x):\n",
    "#         return multiply(x, 2)  # Calls multiply function\n",
    "        \n",
    "#     def square(self, y,x):\n",
    "#         return y * x\n",
    "        \n",
    "\n",
    "# # Function with built-in function calls\n",
    "# def analyze_list(lst):\n",
    "#     return len(lst), sum(lst), max(lst)  # Built-ins should be ignored\n",
    "\n",
    "# # Edge case: Empty function\n",
    "# def empty_function():\n",
    "#     pass\n",
    "\n",
    "# # Edge case: Nested function\n",
    "# def outer():\n",
    "#     def inner():\n",
    "#         return 42\n",
    "#     return inner()\n",
    "\n",
    "# # Edge case: Lambda function\n",
    "# double_lambda = lambda x: x * 2\n",
    "# '''\n"
   ]
  },
  {
   "cell_type": "code",
   "execution_count": 3,
   "id": "5609d275",
   "metadata": {},
   "outputs": [],
   "source": [
    "code=\"\"\"\n",
    "\n",
    "def multiply(x, y):\n",
    "    return 1\n",
    "    \n",
    "def add(x,y):\n",
    "    return 1\n",
    "class MathOperations:\n",
    "    def square(self, x):\n",
    "        return x * x\n",
    "\n",
    "    def double(self, x):\n",
    "        return multiply(x, 2)  # Calls multiply function\n",
    "    def double(self, x,y):\n",
    "        return add(x, y)  # Calls multiply function\n",
    "        \n",
    "    def square(self, y, x):  # Overrides the first square method\n",
    "        return y * x\n",
    "\n",
    "def squeroutter():\n",
    "    obj = MathOperations()  # Assign object\n",
    "    obj.square(1, 1)  # Calls the overridden version\n",
    "    \n",
    "    \n",
    "class Parent:\n",
    "    def pr(self):\n",
    "        print(1)\n",
    "class Child(Parent):\n",
    "    def pr(self):\n",
    "        super.pr()\n",
    "\"\"\""
   ]
  },
  {
   "cell_type": "code",
   "execution_count": 4,
   "id": "b48dd8ed",
   "metadata": {},
   "outputs": [],
   "source": [
    "from Splitting_Scripts import python_splitter"
   ]
  },
  {
   "cell_type": "code",
   "execution_count": 5,
   "id": "eb7a587c",
   "metadata": {},
   "outputs": [],
   "source": [
    "functions=python_splitter.analyze_python_code(code)"
   ]
  },
  {
   "cell_type": "code",
   "execution_count": 6,
   "id": "a9780962",
   "metadata": {},
   "outputs": [
    {
     "data": {
      "text/plain": [
       "[FunctionWrapperNode(name='multiply', body='def multiply(x, y):\\n    return 1', calls=[], class_name=None, params=['x', 'y'], decorators=[], return_type=None, docstring=None, is_override=False, original_class=None, Signituare=None),\n",
       " FunctionWrapperNode(name='add', body='def add(x, y):\\n    return 1', calls=[], class_name=None, params=['x', 'y'], decorators=[], return_type=None, docstring=None, is_override=False, original_class=None, Signituare=None),\n",
       " FunctionWrapperNode(name='square', body='def square(self, x):\\n    return x * x', calls=[], class_name='MathOperations', params=['x'], decorators=[], return_type=None, docstring=None, is_override=False, original_class=None, Signituare=None),\n",
       " FunctionWrapperNode(name='square', body='def square(self, y, x):\\n    return y * x', calls=[], class_name='MathOperations', params=['y', 'x'], decorators=[], return_type=None, docstring=None, is_override=False, original_class=None, Signituare=None),\n",
       " FunctionWrapperNode(name='double', body='def double(self, x):\\n    return multiply(x, 2)', calls=[('multiply', 2, 'None')], class_name='MathOperations', params=['x'], decorators=[], return_type=None, docstring=None, is_override=False, original_class=None, Signituare=None),\n",
       " FunctionWrapperNode(name='double', body='def double(self, x, y):\\n    return add(x, y)', calls=[('add', 2, 'None')], class_name='MathOperations', params=['x', 'y'], decorators=[], return_type=None, docstring=None, is_override=False, original_class=None, Signituare=None),\n",
       " FunctionWrapperNode(name='squeroutter', body='def squeroutter():\\n    obj = MathOperations()\\n    obj.square(1, 1)', calls=[('MathOperations', 0, 'None'), ('square', 2, 'MathOperations')], class_name=None, params=[], decorators=[], return_type=None, docstring=None, is_override=False, original_class=None, Signituare=None),\n",
       " FunctionWrapperNode(name='pr', body='def pr(self):\\n    print(1)', calls=[('print', 1, 'None')], class_name='Parent', params=[], decorators=[], return_type=None, docstring=None, is_override=False, original_class=None, Signituare=None),\n",
       " FunctionWrapperNode(name='pr', body='def pr(self):\\n    super.pr()', calls=[('pr', 0, 'super')], class_name='Child', params=[], decorators=[], return_type=None, docstring=None, is_override=True, original_class='Parent', Signituare=None)]"
      ]
     },
     "execution_count": 6,
     "metadata": {},
     "output_type": "execute_result"
    }
   ],
   "source": [
    "functions[0]"
   ]
  },
  {
   "cell_type": "code",
   "execution_count": null,
   "id": "e4fa7a97",
   "metadata": {},
   "outputs": [],
   "source": []
  },
  {
   "cell_type": "code",
   "execution_count": 7,
   "id": "78254641",
   "metadata": {},
   "outputs": [],
   "source": [
    "New_Functions = python_splitter.replace_function_names_with_hash(functions[0])"
   ]
  },
  {
   "cell_type": "code",
   "execution_count": 8,
   "id": "721cd3b1",
   "metadata": {},
   "outputs": [
    {
     "name": "stdout",
     "output_type": "stream",
     "text": [
      "multiply|2|None\n",
      "add|2|None\n",
      "square|1|MathOperations\n",
      "square|2|MathOperations\n",
      "double|1|MathOperations\n",
      "double|2|MathOperations\n",
      "squeroutter|0|None\n",
      "pr|0|Parent\n",
      "pr|0|Child\n"
     ]
    }
   ],
   "source": [
    "for fun in New_Functions:\n",
    "    print(fun.Signituare)"
   ]
  },
  {
   "cell_type": "code",
   "execution_count": 9,
   "id": "94b0c41d",
   "metadata": {},
   "outputs": [],
   "source": [
    "functionsNodes=[]"
   ]
  },
  {
   "cell_type": "code",
   "execution_count": 10,
   "id": "1edf5bcb",
   "metadata": {},
   "outputs": [],
   "source": [
    "from graph_generator.FunctionNode import FunctionNode"
   ]
  },
  {
   "cell_type": "code",
   "execution_count": 11,
   "id": "d4cffd63",
   "metadata": {},
   "outputs": [],
   "source": [
    "for i in New_Functions:\n",
    "    functionsNodes.append(FunctionNode(\n",
    "        Function_Name=i.name,\n",
    "        FunctionsCallsInside=i.calls,\n",
    "        Hashed=i.Signituare,\n",
    "        ClassNameIfExist=i.class_name,\n",
    "        Arguments=i.params,\n",
    "        FunctionBody=i.body,\n",
    "        Description=\"\"\n",
    "    ))"
   ]
  },
  {
   "cell_type": "code",
   "execution_count": 12,
   "id": "e7381f23",
   "metadata": {},
   "outputs": [
    {
     "name": "stdout",
     "output_type": "stream",
     "text": [
      "multiply\n",
      "[]\n",
      "multiply|2|None\n",
      "['x', 'y']\n",
      "add\n",
      "[]\n",
      "add|2|None\n",
      "['x', 'y']\n",
      "square\n",
      "[]\n",
      "square|1|MathOperations\n",
      "['x']\n",
      "square\n",
      "[]\n",
      "square|2|MathOperations\n",
      "['y', 'x']\n",
      "double\n",
      "[('multiply|2|None', 2, 'None')]\n",
      "double|1|MathOperations\n",
      "['x']\n",
      "double\n",
      "[('add|2|None', 2, 'None')]\n",
      "double|2|MathOperations\n",
      "['x', 'y']\n",
      "squeroutter\n",
      "[('MathOperations', 0, 'None'), ('square|2|MathOperations', 2, 'MathOperations')]\n",
      "squeroutter|0|None\n",
      "[]\n",
      "pr\n",
      "[('print', 1, 'None')]\n",
      "pr|0|Parent\n",
      "[]\n",
      "pr\n",
      "[('pr', 0, 'super')]\n",
      "pr|0|Child\n",
      "[]\n"
     ]
    }
   ],
   "source": [
    "for i in functionsNodes:\n",
    "   # print(i._FunctionBody)\n",
    "    print(i._Function_Name)\n",
    "    print(i._FunctionsCallsInside)\n",
    "    print(i._Hashed)\n",
    "    print(i._Arguments)\n",
    "   # print(\"-\"*20)"
   ]
  },
  {
   "cell_type": "code",
   "execution_count": 13,
   "id": "61e966f3",
   "metadata": {},
   "outputs": [],
   "source": [
    "from graph_generator.Graph_Constructor import graph"
   ]
  },
  {
   "cell_type": "code",
   "execution_count": 14,
   "id": "6d088af3",
   "metadata": {},
   "outputs": [],
   "source": [
    "graphEx=graph(functionsNodes)"
   ]
  },
  {
   "cell_type": "code",
   "execution_count": 15,
   "id": "fe1799de",
   "metadata": {},
   "outputs": [
    {
     "name": "stdout",
     "output_type": "stream",
     "text": [
      "{'multiply|2|None': <graph_generator.FunctionNode.FunctionNode object at 0x000001BE0B222F40>, 'add|2|None': <graph_generator.FunctionNode.FunctionNode object at 0x000001BE0B222FD0>, 'square|1|MathOperations': <graph_generator.FunctionNode.FunctionNode object at 0x000001BE0B222880>, 'square|2|MathOperations': <graph_generator.FunctionNode.FunctionNode object at 0x000001BE0B2221C0>, 'double|1|MathOperations': <graph_generator.FunctionNode.FunctionNode object at 0x000001BE0B2221F0>, 'double|2|MathOperations': <graph_generator.FunctionNode.FunctionNode object at 0x000001BE0B222220>, 'squeroutter|0|None': <graph_generator.FunctionNode.FunctionNode object at 0x000001BE0B222250>, 'pr|0|Parent': <graph_generator.FunctionNode.FunctionNode object at 0x000001BE0B222D90>, 'pr|0|Child': <graph_generator.FunctionNode.FunctionNode object at 0x000001BE0B222D00>}\n",
      "multiply|2|None\n",
      "add|2|None\n",
      "square|2|MathOperations\n",
      "Function hashed multiply|2|None calls: []\n",
      "Function hashed add|2|None calls: []\n",
      "Function hashed square|1|MathOperations calls: []\n",
      "Function hashed square|2|MathOperations calls: []\n",
      "Function hashed double|1|MathOperations calls: [('multiply|2|None', 2, 'None')]\n",
      "Function hashed double|2|MathOperations calls: [('add|2|None', 2, 'None')]\n",
      "Function hashed squeroutter|0|None calls: [('MathOperations', 0, 'None'), ('square|2|MathOperations', 2, 'MathOperations')]\n",
      "Function hashed pr|0|Parent calls: [('print', 1, 'None')]\n",
      "Function hashed pr|0|Child calls: [('pr', 0, 'super')]\n",
      "{'multiply|2|None': 1, 'add|2|None': 1, 'square|1|MathOperations': 0, 'square|2|MathOperations': 1, 'double|1|MathOperations': 0, 'double|2|MathOperations': 0, 'squeroutter|0|None': 0, 'pr|0|Parent': 0, 'pr|0|Child': 0}\n"
     ]
    }
   ],
   "source": [
    "graphEx.construct_Graph()"
   ]
  },
  {
   "cell_type": "code",
   "execution_count": 16,
   "id": "ed0c4bbc",
   "metadata": {},
   "outputs": [],
   "source": [
    "functionsName=graphEx.Topological_Sort()"
   ]
  },
  {
   "cell_type": "code",
   "execution_count": 17,
   "id": "461f6089",
   "metadata": {},
   "outputs": [
    {
     "data": {
      "text/plain": [
       "{'square|2|MathOperations': <graph_generator.FunctionNode.FunctionNode at 0x1be0b2221c0>,\n",
       " 'add|2|None': <graph_generator.FunctionNode.FunctionNode at 0x1be0b222fd0>,\n",
       " 'multiply|2|None': <graph_generator.FunctionNode.FunctionNode at 0x1be0b222f40>,\n",
       " 'pr|0|Child': <graph_generator.FunctionNode.FunctionNode at 0x1be0b222d00>,\n",
       " 'pr|0|Parent': <graph_generator.FunctionNode.FunctionNode at 0x1be0b222d90>,\n",
       " 'squeroutter|0|None': <graph_generator.FunctionNode.FunctionNode at 0x1be0b222250>,\n",
       " 'double|2|MathOperations': <graph_generator.FunctionNode.FunctionNode at 0x1be0b222220>,\n",
       " 'double|1|MathOperations': <graph_generator.FunctionNode.FunctionNode at 0x1be0b2221f0>,\n",
       " 'square|1|MathOperations': <graph_generator.FunctionNode.FunctionNode at 0x1be0b222880>}"
      ]
     },
     "execution_count": 17,
     "metadata": {},
     "output_type": "execute_result"
    }
   ],
   "source": [
    "functionsName[1]"
   ]
  },
  {
   "cell_type": "code",
   "execution_count": 18,
   "id": "6093de07",
   "metadata": {},
   "outputs": [
    {
     "data": {
      "text/plain": [
       "[<graph_generator.FunctionNode.FunctionNode at 0x1be0b2221c0>,\n",
       " <graph_generator.FunctionNode.FunctionNode at 0x1be0b222fd0>,\n",
       " <graph_generator.FunctionNode.FunctionNode at 0x1be0b222f40>,\n",
       " <graph_generator.FunctionNode.FunctionNode at 0x1be0b222d00>,\n",
       " <graph_generator.FunctionNode.FunctionNode at 0x1be0b222d90>,\n",
       " <graph_generator.FunctionNode.FunctionNode at 0x1be0b222250>,\n",
       " <graph_generator.FunctionNode.FunctionNode at 0x1be0b222220>,\n",
       " <graph_generator.FunctionNode.FunctionNode at 0x1be0b2221f0>,\n",
       " <graph_generator.FunctionNode.FunctionNode at 0x1be0b222880>]"
      ]
     },
     "execution_count": 18,
     "metadata": {},
     "output_type": "execute_result"
    }
   ],
   "source": [
    "functionsName[0]"
   ]
  },
  {
   "cell_type": "code",
   "execution_count": 19,
   "id": "9c35c5bb",
   "metadata": {},
   "outputs": [
    {
     "data": {
      "text/plain": [
       "'\\n1->3\\n1->4\\n\\n2->5\\n2->9\\n\\n3->7\\n4->6\\n\\n5->6\\n5->8\\n\\n6->7\\n\\n7->8\\n\\n8->9\\n\\n'"
      ]
     },
     "execution_count": 19,
     "metadata": {},
     "output_type": "execute_result"
    }
   ],
   "source": [
    "\"\"\"\n",
    "1->3\n",
    "1->4\n",
    "\n",
    "2->5\n",
    "2->9\n",
    "\n",
    "3->7\n",
    "4->6\n",
    "\n",
    "5->6\n",
    "5->8\n",
    "\n",
    "6->7\n",
    "\n",
    "7->8\n",
    "\n",
    "8->9\n",
    "\n",
    "\"\"\""
   ]
  },
  {
   "cell_type": "code",
   "execution_count": 20,
   "id": "731a9f40",
   "metadata": {},
   "outputs": [
    {
     "name": "stdout",
     "output_type": "stream",
     "text": [
      "1 -> [3, 4]\n",
      "2 -> [5, 9]\n",
      "3 -> [7]\n",
      "4 -> [6]\n",
      "5 -> [6, 8]\n",
      "6 -> [7]\n",
      "7 -> [8]\n",
      "8 -> [9]\n",
      "9 -> []\n"
     ]
    }
   ],
   "source": [
    "graph = {\n",
    "    1: [3, 4],\n",
    "    2: [5, 9],\n",
    "    3: [7],\n",
    "    4: [6],\n",
    "    5: [6, 8],\n",
    "    6: [7],\n",
    "    7: [8],\n",
    "    8: [9],\n",
    "    9: []  # No outgoing edges from 9\n",
    "}\n",
    "\n",
    "# Display the graph\n",
    "for node, neighbors in graph.items():\n",
    "    print(f\"{node} -> {neighbors}\")\n"
   ]
  },
  {
   "cell_type": "code",
   "execution_count": 21,
   "id": "840718a8",
   "metadata": {},
   "outputs": [],
   "source": [
    "in_degree = {node: 0 for node in graph}"
   ]
  },
  {
   "cell_type": "code",
   "execution_count": 22,
   "id": "61bd9ee6",
   "metadata": {},
   "outputs": [
    {
     "data": {
      "text/plain": [
       "{1: 0, 2: 0, 3: 0, 4: 0, 5: 0, 6: 0, 7: 0, 8: 0, 9: 0}"
      ]
     },
     "execution_count": 22,
     "metadata": {},
     "output_type": "execute_result"
    }
   ],
   "source": [
    "in_degree"
   ]
  },
  {
   "cell_type": "code",
   "execution_count": 23,
   "id": "e6cdf703",
   "metadata": {},
   "outputs": [],
   "source": [
    "for node in graph:\n",
    "    for neighbor in graph[node]:\n",
    "        in_degree[neighbor] += 1"
   ]
  },
  {
   "cell_type": "code",
   "execution_count": 24,
   "id": "7245019b",
   "metadata": {},
   "outputs": [],
   "source": [
    "from collections import deque\n",
    "\n",
    "queue = deque()\n",
    "for node in in_degree:\n",
    "    if in_degree[node] == 0:\n",
    "        queue.append(node)"
   ]
  },
  {
   "cell_type": "code",
   "execution_count": 25,
   "id": "d5c6fa83",
   "metadata": {},
   "outputs": [
    {
     "name": "stdout",
     "output_type": "stream",
     "text": [
      "Topological Order: [1, 2, 3, 4, 5, 6, 7, 8, 9]\n"
     ]
    }
   ],
   "source": [
    "topo_order = []\n",
    "while queue:\n",
    "    node = queue.popleft()\n",
    "    topo_order.append(node)\n",
    "    \n",
    "    for neighbor in graph[node]:\n",
    "        in_degree[neighbor] -= 1\n",
    "        if in_degree[neighbor] == 0:\n",
    "            queue.append(neighbor)\n",
    "\n",
    "print(\"Topological Order:\", topo_order)"
   ]
  },
  {
   "cell_type": "code",
   "execution_count": 26,
   "id": "d7447eab",
   "metadata": {},
   "outputs": [
    {
     "name": "stdout",
     "output_type": "stream",
     "text": [
      "Topological Order: [1, 2, 3, 4, 5, 6, 7, 8, 9]\n"
     ]
    }
   ],
   "source": [
    "print(\"Topological Order:\", topo_order)"
   ]
  },
  {
   "cell_type": "code",
   "execution_count": 27,
   "id": "c96be7e4",
   "metadata": {},
   "outputs": [],
   "source": [
    "#-----------------------------------------------------"
   ]
  },
  {
   "cell_type": "code",
   "execution_count": 28,
   "id": "668eecdd",
   "metadata": {},
   "outputs": [
    {
     "data": {
      "text/plain": [
       "['inner|None|0|[]',\n",
       " \"multiply|None|2|['x', 'y']\",\n",
       " 'outer|None|0|[]',\n",
       " 'empty_function|None|0|[]',\n",
       " \"analyze_list|None|1|['lst']\",\n",
       " \"double|MathOperations|1|['x']\",\n",
       " \"square|MathOperations|2|['y', 'x']\",\n",
       " \"square|MathOperations|1|['x']\",\n",
       " \"compute|None|1|['n']\",\n",
       " \"add|None|2|['a', 'b']\"]"
      ]
     },
     "execution_count": 28,
     "metadata": {},
     "output_type": "execute_result"
    }
   ],
   "source": [
    "['inner|None|0|[]',\n",
    " \"multiply|None|2|['x', 'y']\",\n",
    " 'outer|None|0|[]',\n",
    " 'empty_function|None|0|[]',\n",
    " \"analyze_list|None|1|['lst']\",\n",
    " \"double|MathOperations|1|['x']\",\n",
    " \"square|MathOperations|2|['y', 'x']\",\n",
    " \"square|MathOperations|1|['x']\",\n",
    " \"compute|None|1|['n']\",\n",
    " \"add|None|2|['a', 'b']\"]"
   ]
  },
  {
   "cell_type": "code",
   "execution_count": 29,
   "id": "e679e42f",
   "metadata": {},
   "outputs": [],
   "source": [
    "code='''\n",
    "# Regular function\n",
    "def add(a, b):\n",
    "    return a + b\n",
    "\n",
    "# Regular function\n",
    "def multiply(x, y):\n",
    "    return x * y\n",
    "\n",
    "# Recursive function\n",
    "def factorial(n):\n",
    "    if n == 0:\n",
    "        return 1\n",
    "    return n * factorial(n - 1)\n",
    "\n",
    "# Function calling another function\n",
    "def compute(n):\n",
    "    return factorial(n) + multiply(n, 2)\n",
    "\n",
    "# Class with methods\n",
    "class MathOperations:\n",
    "    def square(self, x):\n",
    "        return x * x\n",
    "\n",
    "    def double(self, x):\n",
    "        return multiply(x, 2)  # Calls multiply function\n",
    "        \n",
    "    def square(self, y,x):\n",
    "        return y * x\n",
    "        \n",
    "\n",
    "# Function with built-in function calls\n",
    "def analyze_list(lst):\n",
    "    return len(lst), sum(lst), max(lst)  # Built-ins should be ignored\n",
    "\n",
    "# Edge case: Empty function\n",
    "def empty_function():\n",
    "    pass\n",
    "\n",
    "# Edge case: Nested function\n",
    "def outer():\n",
    "    def inner():\n",
    "        return 42\n",
    "    return inner()\n",
    "\n",
    "# Edge case: Lambda function\n",
    "double_lambda = lambda x: x * 2\n",
    "'''\n"
   ]
  },
  {
   "cell_type": "code",
   "execution_count": 30,
   "id": "7681655f",
   "metadata": {},
   "outputs": [
    {
     "ename": "ModuleNotFoundError",
     "evalue": "No module named 'javalang'",
     "output_type": "error",
     "traceback": [
      "\u001b[1;31m---------------------------------------------------------------------------\u001b[0m",
      "\u001b[1;31mModuleNotFoundError\u001b[0m                       Traceback (most recent call last)",
      "Cell \u001b[1;32mIn[30], line 2\u001b[0m\n\u001b[0;32m      1\u001b[0m \u001b[38;5;28;01mfrom\u001b[39;00m \u001b[38;5;21;01mSplitting_Scripts\u001b[39;00m \u001b[38;5;28;01mimport\u001b[39;00m python_splitter\n\u001b[1;32m----> 2\u001b[0m \u001b[38;5;28;01mfrom\u001b[39;00m \u001b[38;5;21;01mSplitting_Scripts\u001b[39;00m \u001b[38;5;28;01mimport\u001b[39;00m java_splitter\n",
      "File \u001b[1;32mc:\\Users\\MN\\Desktop\\Final_Splitting\\Final_Splitting\\gp splitting python\\Splitting_Scripts\\java_splitter.py:1\u001b[0m\n\u001b[1;32m----> 1\u001b[0m \u001b[38;5;28;01mimport\u001b[39;00m \u001b[38;5;21;01mjavalang\u001b[39;00m\n\u001b[0;32m      2\u001b[0m \u001b[38;5;28;01mfrom\u001b[39;00m \u001b[38;5;21;01mtyping\u001b[39;00m \u001b[38;5;28;01mimport\u001b[39;00m Dict, Set, List, Tuple, Optional, Any\n\u001b[0;32m      3\u001b[0m \u001b[38;5;28;01mfrom\u001b[39;00m \u001b[38;5;21;01mdataclasses\u001b[39;00m \u001b[38;5;28;01mimport\u001b[39;00m dataclass\n",
      "\u001b[1;31mModuleNotFoundError\u001b[0m: No module named 'javalang'"
     ]
    }
   ],
   "source": [
    "from Splitting_Scripts import python_splitter\n",
    "from Splitting_Scripts import java_splitter"
   ]
  },
  {
   "cell_type": "code",
   "execution_count": null,
   "id": "89aa174b",
   "metadata": {},
   "outputs": [],
   "source": [
    "# ['inner',\n",
    "#  'add',\n",
    "#  'multiply',\n",
    "#  'factorial',\n",
    "#  'outer',\n",
    "#  'empty_function',\n",
    "#  'analyze_list',\n",
    "#  'double',\n",
    "#  'square',\n",
    "#  'square',\n",
    "#  'compute']\n",
    "\n",
    "# for i in ids:\n",
    "#     node=dict[i]\n",
    "#     len(calls)==0:\n",
    "#         qwen()\n",
    "#         tested=true\n",
    "#     else:\n",
    "#         for i in calls:\n",
    "#             check if i tested:\n",
    "#                 dfs get all the nodes down\n",
    "                \n",
    "#                 stub=stub_agent()\n",
    "#                 append(stub)\n",
    "                \n",
    "#             test with stub\n",
    "#             test inte + all nodes"
   ]
  },
  {
   "cell_type": "code",
   "execution_count": null,
   "id": "d004f5c5",
   "metadata": {},
   "outputs": [
    {
     "data": {
      "text/plain": [
       "[\"add|MathOperations|3|['int', 'int', 'int']\",\n",
       " \"square|MathOperations|1|['int']\",\n",
       " \"add|MathOperations|2|['int', 'int']\",\n",
       " \"multiply|MathOperations|2|['int', 'int']\",\n",
       " \"factorial|MathOperations|1|['int']\",\n",
       " 'emptyFunction|MathOperations|0|[]',\n",
       " \"doubleValue|MathOperations|1|['int']\",\n",
       " \"compute|MathOperations|1|['int']\"]"
      ]
     },
     "execution_count": 6,
     "metadata": {},
     "output_type": "execute_result"
    }
   ],
   "source": [
    "[\"add|MathOperations|3|['int', 'int', 'int']\",\n",
    " \"square|MathOperations|1|['int']\",\n",
    " \"add|MathOperations|2|['int', 'int']\",\n",
    " \"multiply|MathOperations|2|['int', 'int']\",\n",
    " \"factorial|MathOperations|1|['int']\",\n",
    " 'emptyFunction|MathOperations|0|[]',\n",
    " \"doubleValue|MathOperations|1|['int']\",\n",
    " \"compute|MathOperations|1|['int']\"]"
   ]
  },
  {
   "cell_type": "code",
   "execution_count": null,
   "id": "30071190",
   "metadata": {},
   "outputs": [],
   "source": [
    "javaCode=\"\"\"\n",
    "class MathOperations {\n",
    "    // Regular function\n",
    "    public static int add(int a, int b) {\n",
    "        return a + b;\n",
    "    }\n",
    "    public static int add(int a, int b,int x) {\n",
    "        return a + b+x;\n",
    "    }\n",
    "\n",
    "    // Regular function\n",
    "    public static int multiply(int x, int y) {\n",
    "        return x * y;\n",
    "    }\n",
    "\n",
    "    // Recursive function\n",
    "    public static int factorial(int n) {\n",
    "        if (n == 0) {\n",
    "            return 1;\n",
    "        }\n",
    "        return n * factorial(n - 1);\n",
    "    }\n",
    "\n",
    "    // Function calling another function\n",
    "    public static int compute(int n) {\n",
    "        return factorial(n) + multiply(n, 2) + add(1,1)+square(1);\n",
    "    }\n",
    "\n",
    "    // Methods within a class\n",
    "    public int square(int x) {\n",
    "        return x * x;\n",
    "    }\n",
    "\n",
    "    public int doubleValue(int[][] x) {\n",
    "        return multiply(x, 2); // Calls multiply function\n",
    "    }\n",
    "    \n",
    "    // Edge case: Empty function\n",
    "    public void emptyFunction() {\n",
    "        // Do nothing\n",
    "        add(1,1,1);\n",
    "    }\n",
    "}\n",
    "\n",
    "\"\"\""
   ]
  },
  {
   "cell_type": "code",
   "execution_count": null,
   "id": "d450d679",
   "metadata": {},
   "outputs": [],
   "source": [
    "functions=java_splitter.analyze_java_code(javaCode)"
   ]
  },
  {
   "cell_type": "code",
   "execution_count": null,
   "id": "d241892a",
   "metadata": {
    "scrolled": false
   },
   "outputs": [
    {
     "name": "stdout",
     "output_type": "stream",
     "text": [
      "----------------------------------------------------------------------------------------------------\n",
      "JavaFunctionWrapperNode(name='add', body='    public static int add(int a, int b) {\\n        return a + b;\\n    }', calls=[], class_name='MathOperations', params=['int', 'int'], return_type='int', docstring=None, is_override=False, overloaded_variants=[JavaFunctionWrapperNode(name='add', body='    public static int add(int a, int b,int x) {\\n        return a + b+x;\\n    }', calls=[], class_name='MathOperations', params=['int', 'int', 'int'], return_type='int', docstring=None, is_override=False, overloaded_variants=[...], signature='MathOperations.add(int,int,int)')], signature='MathOperations.add(int,int)')\n",
      "----------------------------------------------------------------------------------------------------\n",
      "----------------------------------------------------------------------------------------------------\n",
      "JavaFunctionWrapperNode(name='add', body='    public static int add(int a, int b,int x) {\\n        return a + b+x;\\n    }', calls=[], class_name='MathOperations', params=['int', 'int', 'int'], return_type='int', docstring=None, is_override=False, overloaded_variants=[JavaFunctionWrapperNode(name='add', body='    public static int add(int a, int b) {\\n        return a + b;\\n    }', calls=[], class_name='MathOperations', params=['int', 'int'], return_type='int', docstring=None, is_override=False, overloaded_variants=[...], signature='MathOperations.add(int,int)')], signature='MathOperations.add(int,int,int)')\n",
      "----------------------------------------------------------------------------------------------------\n",
      "----------------------------------------------------------------------------------------------------\n",
      "JavaFunctionWrapperNode(name='multiply', body='    public static int multiply(int x, int y) {\\n        return x * y;\\n    }', calls=[], class_name='MathOperations', params=['int', 'int'], return_type='int', docstring=None, is_override=False, overloaded_variants=[], signature='MathOperations.multiply(int,int)')\n",
      "----------------------------------------------------------------------------------------------------\n",
      "----------------------------------------------------------------------------------------------------\n",
      "JavaFunctionWrapperNode(name='factorial', body='    public static int factorial(int n) {\\n        if (n == 0) {\\n            return 1;\\n        }\\n        return n * factorial(n - 1);\\n    }', calls=[('factorial', 1, ['numeric'])], class_name='MathOperations', params=['int'], return_type='int', docstring=None, is_override=False, overloaded_variants=[], signature='MathOperations.factorial(int)')\n",
      "----------------------------------------------------------------------------------------------------\n",
      "----------------------------------------------------------------------------------------------------\n",
      "JavaFunctionWrapperNode(name='compute', body='    public static int compute(int n) {\\n        return factorial(n) + multiply(n, 2) + add(1,1)+square(1);\\n    }', calls=[('factorial', 1, ['int']), ('multiply', 2, ['int', 'int']), ('add', 2, ['int', 'int']), ('square', 1, ['int'])], class_name='MathOperations', params=['int'], return_type='int', docstring=None, is_override=False, overloaded_variants=[], signature='MathOperations.compute(int)')\n",
      "----------------------------------------------------------------------------------------------------\n",
      "----------------------------------------------------------------------------------------------------\n",
      "JavaFunctionWrapperNode(name='square', body='    public int square(int x) {\\n        return x * x;\\n    }', calls=[], class_name='MathOperations', params=['int'], return_type='int', docstring=None, is_override=False, overloaded_variants=[], signature='MathOperations.square(int)')\n",
      "----------------------------------------------------------------------------------------------------\n",
      "----------------------------------------------------------------------------------------------------\n",
      "JavaFunctionWrapperNode(name='doubleValue', body='    public int doubleValue(int[][] x) {\\n        return multiply(x, 2); // Calls multiply function\\n    }', calls=[('multiply', 2, ['int<>>', 'int'])], class_name='MathOperations', params=['int'], return_type='int', docstring=None, is_override=False, overloaded_variants=[], signature='MathOperations.doubleValue(int)')\n",
      "----------------------------------------------------------------------------------------------------\n",
      "----------------------------------------------------------------------------------------------------\n",
      "JavaFunctionWrapperNode(name='emptyFunction', body='    public void emptyFunction() {\\n        // Do nothing\\n        add(1,1,1);\\n    }', calls=[('add', 3, ['int', 'int', 'int'])], class_name='MathOperations', params=[], return_type='void', docstring=None, is_override=False, overloaded_variants=[], signature='MathOperations.emptyFunction()')\n",
      "----------------------------------------------------------------------------------------------------\n"
     ]
    }
   ],
   "source": [
    "for i in functions[0]:\n",
    "\n",
    "    print(\"-\"*100)\n",
    "    print(i)\n",
    "    print(\"-\"*100)\n"
   ]
  },
  {
   "cell_type": "code",
   "execution_count": null,
   "id": "21e3efb2",
   "metadata": {},
   "outputs": [],
   "source": [
    "functionsNodes=[]"
   ]
  },
  {
   "cell_type": "code",
   "execution_count": null,
   "id": "5cdd79fd",
   "metadata": {},
   "outputs": [],
   "source": [
    "from graph_generator.FunctionNode import FunctionNode"
   ]
  },
  {
   "cell_type": "code",
   "execution_count": null,
   "id": "5ec95906",
   "metadata": {},
   "outputs": [],
   "source": [
    "for i in functions[0]:\n",
    "    functionsNodes.append(FunctionNode(\n",
    "        Function_Name=i.name,\n",
    "        FunctionsCallsInside=i.calls,\n",
    "        ClassNameIfExist=i.class_name,\n",
    "        Arguments=i.params,\n",
    "        FunctionBody=i.body,\n",
    "        Description=\"\"\n",
    "    ))"
   ]
  },
  {
   "cell_type": "code",
   "execution_count": null,
   "id": "80715d38",
   "metadata": {},
   "outputs": [],
   "source": [
    "#dict[].append(hash,node)"
   ]
  },
  {
   "cell_type": "code",
   "execution_count": null,
   "id": "5d81af67",
   "metadata": {},
   "outputs": [
    {
     "name": "stdout",
     "output_type": "stream",
     "text": [
      "['int', 'int']\n",
      "--------------------\n",
      "['int', 'int', 'int']\n",
      "--------------------\n",
      "['int', 'int']\n",
      "--------------------\n",
      "['int']\n",
      "--------------------\n",
      "['int']\n",
      "--------------------\n",
      "['int']\n",
      "--------------------\n",
      "['int']\n",
      "--------------------\n",
      "[]\n",
      "--------------------\n"
     ]
    }
   ],
   "source": [
    "for i in functionsNodes:\n",
    "    #print(i)\n",
    "    print(i.get_Arguments())\n",
    "    print(\"-\"*20)"
   ]
  },
  {
   "cell_type": "code",
   "execution_count": null,
   "id": "174de1f1",
   "metadata": {},
   "outputs": [],
   "source": [
    "from graph_generator.Graph_Constructor import graph"
   ]
  },
  {
   "cell_type": "code",
   "execution_count": null,
   "id": "8fc85c25",
   "metadata": {},
   "outputs": [
    {
     "ename": "NameError",
     "evalue": "name 'functionsNodes' is not defined",
     "output_type": "error",
     "traceback": [
      "\u001b[1;31m---------------------------------------------------------------------------\u001b[0m",
      "\u001b[1;31mNameError\u001b[0m                                 Traceback (most recent call last)",
      "\u001b[1;32m~\\AppData\\Local\\Temp\\ipykernel_25060\\3521350098.py\u001b[0m in \u001b[0;36m<module>\u001b[1;34m\u001b[0m\n\u001b[1;32m----> 1\u001b[1;33m \u001b[0mgraphEx\u001b[0m\u001b[1;33m=\u001b[0m\u001b[0mgraph\u001b[0m\u001b[1;33m(\u001b[0m\u001b[0mfunctionsNodes\u001b[0m\u001b[1;33m,\u001b[0m\u001b[1;34m\"java\"\u001b[0m\u001b[1;33m)\u001b[0m\u001b[1;33m\u001b[0m\u001b[1;33m\u001b[0m\u001b[0m\n\u001b[0m",
      "\u001b[1;31mNameError\u001b[0m: name 'functionsNodes' is not defined"
     ]
    }
   ],
   "source": [
    "graphEx=graph(functionsNodes,\"java\")"
   ]
  },
  {
   "cell_type": "code",
   "execution_count": null,
   "id": "aef792af",
   "metadata": {},
   "outputs": [],
   "source": [
    "graphEx.construct_Graph()"
   ]
  },
  {
   "cell_type": "code",
   "execution_count": null,
   "id": "4480fce9",
   "metadata": {},
   "outputs": [],
   "source": [
    "functionsName=graphEx.Topological_Sort()"
   ]
  },
  {
   "cell_type": "code",
   "execution_count": null,
   "id": "78d44724",
   "metadata": {},
   "outputs": [
    {
     "data": {
      "text/plain": [
       "[\"add|MathOperations|3|['int', 'int', 'int']\",\n",
       " \"square|MathOperations|1|['int']\",\n",
       " \"add|MathOperations|2|['int', 'int']\",\n",
       " \"multiply|MathOperations|2|['int', 'int']\",\n",
       " \"factorial|MathOperations|1|['int']\",\n",
       " 'emptyFunction|MathOperations|0|[]',\n",
       " \"doubleValue|MathOperations|1|['int']\",\n",
       " \"compute|MathOperations|1|['int']\"]"
      ]
     },
     "execution_count": 19,
     "metadata": {},
     "output_type": "execute_result"
    }
   ],
   "source": [
    "functionsName[0]"
   ]
  },
  {
   "cell_type": "code",
   "execution_count": null,
   "id": "85252d43",
   "metadata": {},
   "outputs": [],
   "source": [
    "javaCode=\"\"\"\n",
    "class MathOperations {\n",
    "    // Regular function\n",
    "    public static int add(int a, int b) {\n",
    "        return a + b;\n",
    "    }\n",
    "    public static int add(int a, int b,int x) {\n",
    "        return a + b+x;\n",
    "    }\n",
    "\n",
    "    // Regular function\n",
    "    public static int multiply(int x, int y) {\n",
    "        return x * y;\n",
    "    }\n",
    "\n",
    "    // Recursive function\n",
    "    public static int factorial(int n) {\n",
    "        if (n == 0) {\n",
    "            return 1;\n",
    "        }\n",
    "        return n * factorial(n - 1);\n",
    "    }\n",
    "\n",
    "    // Function calling another function\n",
    "    public static int compute(int n) {\n",
    "        return factorial(n) + multiply(n, 2) + add(1,1)+square(1);\n",
    "    }\n",
    "\n",
    "    // Methods within a class\n",
    "    public int square(int x) {\n",
    "        return x * x;\n",
    "    }\n",
    "\n",
    "    public int doubleValue(int x) {\n",
    "        return multiply(x, 2); // Calls multiply function\n",
    "    }\n",
    "    \n",
    "    // Edge case: Empty function\n",
    "    public void emptyFunction() {\n",
    "        // Do nothing\n",
    "        add(1,1,1);\n",
    "    }\n",
    "}\n",
    "\n",
    "\"\"\""
   ]
  },
  {
   "cell_type": "code",
   "execution_count": null,
   "id": "4098aa7e",
   "metadata": {},
   "outputs": [],
   "source": [
    "from Integration_Testing.Integration_tester import Tester"
   ]
  },
  {
   "cell_type": "code",
   "execution_count": null,
   "id": "4fbbd5d8",
   "metadata": {},
   "outputs": [],
   "source": [
    "tester=Tester(None)"
   ]
  },
  {
   "cell_type": "code",
   "execution_count": null,
   "id": "ebe4ec96",
   "metadata": {},
   "outputs": [],
   "source": [
    "res=tester.test(javaCode,\"java\")"
   ]
  },
  {
   "cell_type": "code",
   "execution_count": null,
   "id": "f51d405a",
   "metadata": {},
   "outputs": [
    {
     "name": "stdout",
     "output_type": "stream",
     "text": [
      "    public static int add(int a, int b,int x) {\n",
      "        return a + b+x;\n",
      "    }\n",
      "====================================================================================================\n",
      "['1', '2']\n",
      "----------------------------------------------------------------------------------------------------\n",
      "    public static int multiply(int x, int y) {\n",
      "        return x * y;\n",
      "    }\n",
      "====================================================================================================\n",
      "['1', '2']\n",
      "----------------------------------------------------------------------------------------------------\n",
      "    public int square(int x) {\n",
      "        return x * x;\n",
      "    }\n",
      "====================================================================================================\n",
      "['1', '2']\n",
      "----------------------------------------------------------------------------------------------------\n",
      "    public static int add(int a, int b) {\n",
      "        return a + b;\n",
      "    }\n",
      "====================================================================================================\n",
      "['1', '2']\n",
      "----------------------------------------------------------------------------------------------------\n",
      "\n",
      "====================================================================================================\n",
      "['1', '22']\n",
      "----------------------------------------------------------------------------------------------------\n",
      "    public static int factorial(int n) {\n",
      "        if (n == 0) {\n",
      "            return 1;\n",
      "        }\n",
      "        return n * factorial(n - 1);\n",
      "    }\n",
      "====================================================================================================\n",
      "['1', '22']\n",
      "----------------------------------------------------------------------------------------------------\n",
      "\n",
      "====================================================================================================\n",
      "['1', '22']\n",
      "----------------------------------------------------------------------------------------------------\n",
      "    public void emptyFunction() {\n",
      "        // Do nothing\n",
      "        add(1,1,1);\n",
      "    }    public static int add(int a, int b,int x) {\n",
      "        return a + b+x;\n",
      "    }\n",
      "====================================================================================================\n",
      "['1', '22']\n",
      "----------------------------------------------------------------------------------------------------\n",
      "\n",
      "====================================================================================================\n",
      "['1', '22']\n",
      "----------------------------------------------------------------------------------------------------\n",
      "    public int doubleValue(int x) {\n",
      "        return multiply(x, 2); // Calls multiply function\n",
      "    }    public static int multiply(int x, int y) {\n",
      "        return x * y;\n",
      "    }\n",
      "====================================================================================================\n",
      "['1', '22']\n",
      "----------------------------------------------------------------------------------------------------\n",
      "\n",
      "====================================================================================================\n",
      "['1', '22']\n",
      "----------------------------------------------------------------------------------------------------\n",
      "    public static int compute(int n) {\n",
      "        return factorial(n) + multiply(n, 2) + add(1,1)+square(1);\n",
      "    }    public static int factorial(int n) {\n",
      "        if (n == 0) {\n",
      "            return 1;\n",
      "        }\n",
      "        return n * factorial(n - 1);\n",
      "    }    public static int multiply(int x, int y) {\n",
      "        return x * y;\n",
      "    }    public static int add(int a, int b) {\n",
      "        return a + b;\n",
      "    }    public int square(int x) {\n",
      "        return x * x;\n",
      "    }\n",
      "====================================================================================================\n",
      "['1', '22']\n",
      "----------------------------------------------------------------------------------------------------\n"
     ]
    }
   ],
   "source": [
    "for i in res:\n",
    "    print(i[0])\n",
    "    print(\"=\"*100)\n",
    "    print(i[1])\n",
    "    print(\"-\"*100)"
   ]
  },
  {
   "cell_type": "code",
   "execution_count": null,
   "id": "0c15fe16",
   "metadata": {},
   "outputs": [],
   "source": []
  }
 ],
 "metadata": {
  "kernelspec": {
   "display_name": "base",
   "language": "python",
   "name": "python3"
  },
  "language_info": {
   "codemirror_mode": {
    "name": "ipython",
    "version": 3
   },
   "file_extension": ".py",
   "mimetype": "text/x-python",
   "name": "python",
   "nbconvert_exporter": "python",
   "pygments_lexer": "ipython3",
   "version": "3.9.18"
  }
 },
 "nbformat": 4,
 "nbformat_minor": 5
}
